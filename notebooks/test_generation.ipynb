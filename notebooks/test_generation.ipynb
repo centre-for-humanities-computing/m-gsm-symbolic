{
 "cells": [
  {
   "cell_type": "code",
   "execution_count": 48,
   "id": "8ae30330",
   "metadata": {},
   "outputs": [],
   "source": [
    "import json\n",
    "from pathlib import Path\n",
    "from m_gsm_symbolic import load_data\n",
    "from m_gsm_symbolic.gsm_parser import AnnotatedQuestion\n",
    "import time\n",
    "\n",
    "questions = load_data.load_data(\"eng\")\n",
    "replacements = load_data.load_replacements(\n",
    "    \"eng\")\n"
   ]
  },
  {
   "cell_type": "code",
   "execution_count": null,
   "id": "aa129c02",
   "metadata": {},
   "outputs": [
    {
     "name": "stdout",
     "output_type": "stream",
     "text": [
      "Loaded 100 questions\n",
      "Processing question 1/100: 20\n",
      "File: 20\n",
      "Q: Eric picks 249 oranges on Monday. Then he picks 395 oranges on Tuesday. On Wednesday, he picks five times the number of oranges he did on Monday. How many oranges does Eric have?\n",
      "A: Combining Monday and Tuesday, Eric has 249 oranges + 395 oranges = <<249+395=644>>644 oranges.\n",
      "On Wednesday, he picks 5*249 oranges = <<5*249=1245>>1245 oranges.\n",
      "Altogether, Eric has 644 oranges + 1245 oranges = <<644+1245=1889>>1889 oranges.\n",
      "#### 1889\n",
      "Duration: 0.00 seconds\n",
      "\n",
      "Processing question 2/100: 85\n",
      "Number of combinations: 810\n",
      "File: 85\n",
      "Q: If Sophia and Lucas have 580 meters of fence between them, and they agree to split it with Lucas getting 110 meters more than Sophia, how much is left over for Sophia?\n",
      "A: Let x be the amount of fence Sophia gets and y be the amount Lucas gets. We know that y = x + 110, and y + x = 580.\n",
      "Substituting the first equation into the second equation, we get 2x+110=580\n",
      "Subtracting the 110 from both sides, we get 2x=470\n",
      "We divide each side by two, leaving x=235. This means Sophia has 235 meters of fence left over.\n",
      "#### 235\n",
      "Duration: 0.02 seconds\n",
      "\n",
      "Processing question 3/100: 65\n",
      "Number of combinations: 132000\n",
      "File: 65\n",
      "Q: Madison is trying to decide whether to do her business accounting herself or hire one tax consultant. If she does it herself, she'll be able to do 6 fewer hours of freelance work, losing €71/hour in missed income. The tax consultant charges €106. How much more money will she have if she hires the tax consultant?\n",
      "A: First find the total lost revenue if Madison does her business accounting herself: €71/hour * 6 hours = €<<71*6=426>>426\n",
      "Then subtract the tax consultant's charge to find how much money Madison saves: €426 - €106 = €<<426-106=320>>320\n",
      "#### 320\n",
      "Duration: 1.45 seconds\n",
      "\n",
      "Processing question 4/100: 99\n",
      "Number of combinations: 972000\n",
      "File: 99\n",
      "Q: If Oliver eats 4 eggs a day for 40 days and then increases it to 7 eggs a day for 80 days, how many dozens of eggs will Oliver need for 120 days?\n",
      "A: He starts off eating 4 eggs a day for 40 days for a total of 4*40 = <<4*40=160>>160 eggs\n",
      "Then he increases it to 7 eggs a day for 80 days for a total of 7*80 = <<7*80=560>>560 eggs\n",
      "All total he will eat 160+560 = <<160+560=720>>720 eggs\n",
      "There are 12 eggs in 1 dozen and he will eat 720 eggs which is 720/12 = 60 dozen eggs\n",
      "#### 60\n",
      "Duration: 7.88 seconds\n",
      "\n",
      "Processing question 5/100: 77\n",
      "Number of combinations: 2835\n",
      "File: 77\n",
      "Q: Ashley is required to submit a 125-page thesis. She already finished writing 1/5 of the thesis. How many pages does she have left to write?\n",
      "A: Ashley has already written 1/5 of the thesis which is 125 pages*1/5 = <<125*1/5=25>>25 pages.\n",
      "So, she still needs to write 125 pages - 25 pages = <<125-25=100>>100 pages.\n",
      "#### 100\n",
      "Duration: 0.05 seconds\n",
      "\n",
      "Processing question 6/100: 39\n",
      "Number of combinations: 27720\n",
      "File: 39\n",
      "Q: A cleaner has to clean a university with 100 rooms. They have 4 days to get it done. It takes them 10 minutes per room. If they work 14 hours each day, what percentage of their day, on average, is spent cleaning rooms?\n",
      "A: They have to clean 25 rooms a day because 100 / 4 = <<100/4=25>>25\n",
      "They spend 250 minutes cleaning per day because 25*10 = <<25*10=250>>250\n",
      "They spend 4.166666666666667 hours a day because 250 / 60 = <<250/60=4.166666666666667>>4.166666666666667\n",
      "They spend 25/84 of their day cleaning rooms because 4.166666666666667 / 14 = <<4.166666666666667/14=0.2976190476190476>>0.2976190476190476\n",
      "They spend 29% of their day cleaning rooms because 0.2976190476190476*100 = <<0.2976190476190476*100=29>>29\n",
      "#### 29\n",
      "Duration: 0.40 seconds\n",
      "\n",
      "Processing question 7/100: 57\n",
      "Number of combinations: 9072\n",
      "File: 57\n",
      "Q: Henry has 8 tubes of orange paint and 12 tubes of white paint. Tyler has half as many tubes of orange paint as Henry, and five times as many tubes of white paint as Henry. How many tubes of paint does Tyler have?\n",
      "A: Tyler has 8*1/2= <<8*1/2=4>>4 tubes of orange paint\n",
      "Tyler has 12*5=<<12*5=60>>60 tubes of white paint\n",
      "Tyler has a total of 4+60 =<<4+60=64>>64 tubes of paint\n",
      "#### 64\n",
      "Duration: 0.18 seconds\n",
      "\n",
      "Processing question 8/100: 17\n",
      "Number of combinations: 1518480\n",
      "File: 17\n",
      "Q: Emma walks 23 fts every day on her favorite walking trail, which includes 6 fts of walking on the beach and 17 ft(s) of walking on the sidewalk. On the sidewalk, Emma walks at four times the rate of speed that she does on the beach. If 48 minutes of her walk is spent on the beach, how long does it take for her to complete the entire 23-ft walk, in minutes?\n",
      "A: On the beach, Emma walks at a rate of 6 fts per 48 minutes, or 6/48 = 1/8 fts per minute.\n",
      "On the sidewalk, she walks at four times the rate of speed as when she is on the sand, or 4*1/8 = 0.5 fts per minute.\n",
      "To walk 17 ft(s) on the sidewalk, it takes her 17/0.5 = <<17/0.5=34>>34 minutes.\n",
      "Thus, in total, it takes Emma 48+34 = <<48+34=82>>82 minutes to walk her favorite route.\n",
      "#### 82\n",
      "Duration: 14.09 seconds\n",
      "\n"
     ]
    }
   ],
   "source": [
    "\n",
    "# Store results\n",
    "results = []\n",
    "print(f\"Loaded {len(questions)} questions\")\n",
    "for i, question in enumerate(questions):\n",
    "    print(f\"Processing question {i+1}/{len(questions)}: {question.id_shuffled}\")\n",
    "    try:\n",
    "        start_time = time.time()\n",
    "        res = question.generate_questions(1, language=\"eng\", replacements=replacements)\n",
    "        duration = time.time() - start_time\n",
    "        print(f\"File: {res[0].id_shuffled}\\nQ: {res[0].question}\\nA: {res[0].answer}\\nDuration: {duration:.2f} seconds\\n\")\n",
    "    except Exception as e:\n",
    "        print(f\"File: {question.id_shuffled} ERROR: {e}\")\n",
    "        raise e"
   ]
  },
  {
   "cell_type": "code",
   "execution_count": 50,
   "id": "3ff13380",
   "metadata": {},
   "outputs": [
    {
     "data": {
      "text/plain": [
       "Question(question='William picks 306 apples on Saturday. Then he picks 166 apples on Sunday. On Monday, he picks four times the number of apples he did on Saturday. How many apples does William have?', answer='Combining Saturday and Sunday, William has 306 apples + 166 apples = <<306+166=472>>472 apples.\\nOn Monday, he picks 4*306 apples = <<4*306=1224>>1224 apples.\\nAltogether, William has 472 apples + 1224 apples = <<472+1224=1696>>1696 apples.\\n#### 1696', id_orig=1020, id_shuffled=20)"
      ]
     },
     "execution_count": 50,
     "metadata": {},
     "output_type": "execute_result"
    }
   ],
   "source": [
    "questions[92]._generate_question(\"eng\", replacements=replacements)"
   ]
  },
  {
   "cell_type": "code",
   "execution_count": 5,
   "id": "eb3c5b79",
   "metadata": {},
   "outputs": [],
   "source": [
    "assignment = questions[86].get_default_assignments(replacements)"
   ]
  },
  {
   "cell_type": "code",
   "execution_count": 6,
   "id": "6ae1b84a",
   "metadata": {},
   "outputs": [
    {
     "data": {
      "text/plain": [
       "{'name': 'Sarah',\n",
       " 'location': 'kysten',\n",
       " 'total': 75,\n",
       " 'cur': 'kr',\n",
       " 'shop': 'kiosken',\n",
       " 'item1': 'karameller',\n",
       " 'n1': 500,\n",
       " 'unit': 'gram',\n",
       " 'p1': 20,\n",
       " 'n2': 500,\n",
       " 'discount': Fraction(1, 2),\n",
       " 'n12': 1100,\n",
       " 'item2': 'muslingeskaller',\n",
       " 'p2': 17,\n",
       " 'n3': 4,\n",
       " 'item3': 'magneter',\n",
       " 'p3': 2,\n",
       " 'item1_definite': 'karamellerne'}"
      ]
     },
     "execution_count": 6,
     "metadata": {},
     "output_type": "execute_result"
    }
   ],
   "source": [
    "assignment"
   ]
  },
  {
   "cell_type": "code",
   "execution_count": 16,
   "id": "24342a3d",
   "metadata": {},
   "outputs": [
    {
     "data": {
      "text/plain": [
       "59.0"
      ]
     },
     "execution_count": 16,
     "metadata": {},
     "output_type": "execute_result"
    }
   ],
   "source": [
    "from m_gsm_symbolic.gsm_parser import EVAL_CONTEXT_HELPERS\n",
    "eval(\"p1 + n2 / n1 * (1-discount) * p1 + (n12 - n1 - n2) / n1 * p1 + p2 + n3 * p3\", EVAL_CONTEXT_HELPERS, assignment)"
   ]
  },
  {
   "cell_type": "code",
   "execution_count": null,
   "id": "7a1b9702",
   "metadata": {},
   "outputs": [],
   "source": []
  }
 ],
 "metadata": {
  "kernelspec": {
   "display_name": "m-gsm-symbolic",
   "language": "python",
   "name": "python3"
  },
  "language_info": {
   "codemirror_mode": {
    "name": "ipython",
    "version": 3
   },
   "file_extension": ".py",
   "mimetype": "text/x-python",
   "name": "python",
   "nbconvert_exporter": "python",
   "pygments_lexer": "ipython3",
   "version": "3.13.3"
  }
 },
 "nbformat": 4,
 "nbformat_minor": 5
}
